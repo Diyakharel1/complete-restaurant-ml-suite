{
 "cells": [
  {
   "cell_type": "markdown",
   "id": "ba0019eb",
   "metadata": {},
   "source": [
    "# Task 4: Location-Based Restaurant Analysis"
   ]
  },
  {
   "cell_type": "markdown",
   "id": "06d2a2cb",
   "metadata": {},
   "source": [
    "### Objective\n",
    "Perform a geographical and statistical analysis of restaurant locations, cuisines, and ratings using city/locality-wise groupings."
   ]
  },
  {
   "cell_type": "code",
   "execution_count": null,
   "id": "38b980f7",
   "metadata": {},
   "outputs": [],
   "source": [
    "import pandas as pd\n",
    "import seaborn as sns\n",
    "import matplotlib.pyplot as plt\n",
    "import folium\n",
    "from folium.plugins import MarkerCluster\n",
    "\n",
    "# Load dataset\n",
    "df = pd.read_csv('restaurant_dataset.csv')\n",
    "\n",
    "# Basic view\n",
    "df[['City', 'Latitude', 'Longitude', 'Aggregate rating', 'Cuisines']].head()"
   ]
  },
  {
   "cell_type": "markdown",
   "id": "f0dd922f",
   "metadata": {},
   "source": [
    "### Step 1: Restaurant Location Mapping (Using Folium)"
   ]
  },
  {
   "cell_type": "code",
   "execution_count": null,
   "id": "1988a167",
   "metadata": {},
   "outputs": [],
   "source": [
    "# Center at median coordinates\n",
    "map_center = [df['Latitude'].median(), df['Longitude'].median()]\n",
    "restaurant_map = folium.Map(location=map_center, zoom_start=2)\n",
    "marker_cluster = MarkerCluster().add_to(restaurant_map)\n",
    "\n",
    "for idx, row in df.iterrows():\n",
    "    folium.Marker(location=[row['Latitude'], row['Longitude']],\n",
    "                  popup=row['City']).add_to(marker_cluster)\n",
    "\n",
    "restaurant_map"
   ]
  },
  {
   "cell_type": "markdown",
   "id": "f3e82d1e",
   "metadata": {},
   "source": [
    "### Step 2: City-wise Analysis of Restaurant Count and Average Rating"
   ]
  },
  {
   "cell_type": "code",
   "execution_count": null,
   "id": "31f92f20",
   "metadata": {},
   "outputs": [],
   "source": [
    "# Top cities by number of restaurants\n",
    "top_cities = df['City'].value_counts().nlargest(10)\n",
    "plt.figure(figsize=(10,5))\n",
    "sns.barplot(x=top_cities.values, y=top_cities.index)\n",
    "plt.title('Top 10 Cities by Number of Restaurants')\n",
    "plt.xlabel('Number of Restaurants')\n",
    "plt.ylabel('City')\n",
    "plt.show()"
   ]
  },
  {
   "cell_type": "code",
   "execution_count": null,
   "id": "716e6d01",
   "metadata": {},
   "outputs": [],
   "source": [
    "# Average rating by city\n",
    "avg_ratings = df.groupby('City')['Aggregate rating'].mean().sort_values(ascending=False).head(10)\n",
    "plt.figure(figsize=(10,5))\n",
    "sns.barplot(x=avg_ratings.values, y=avg_ratings.index)\n",
    "plt.title('Top 10 Cities by Average Rating')\n",
    "plt.xlabel('Average Rating')\n",
    "plt.ylabel('City')\n",
    "plt.show()"
   ]
  }
 ],
 "metadata": {},
 "nbformat": 4,
 "nbformat_minor": 5
}