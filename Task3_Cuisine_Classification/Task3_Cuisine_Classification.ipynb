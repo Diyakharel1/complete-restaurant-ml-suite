{
 "cells": [
  {
   "cell_type": "markdown",
   "id": "2bf3cd51",
   "metadata": {},
   "source": [
    "# Task 3: Cuisine Classification"
   ]
  },
  {
   "cell_type": "markdown",
   "id": "80daa063",
   "metadata": {},
   "source": [
    "### Objective\n",
    "Build a classification model to predict the primary cuisine type of a restaurant based on features like price, ratings, and delivery options."
   ]
  },
  {
   "cell_type": "code",
   "execution_count": null,
   "id": "0dd2ca87",
   "metadata": {},
   "outputs": [],
   "source": [
    "import pandas as pd\n",
    "from sklearn.model_selection import train_test_split\n",
    "from sklearn.ensemble import RandomForestClassifier\n",
    "from sklearn.metrics import classification_report, accuracy_score\n",
    "from sklearn.preprocessing import LabelEncoder\n",
    "\n",
    "# Load dataset\n",
    "df = pd.read_csv('restaurant_dataset.csv')\n",
    "\n",
    "# Drop missing values in 'Cuisines'\n",
    "df = df.dropna(subset=['Cuisines'])"
   ]
  },
  {
   "cell_type": "markdown",
   "id": "8a6ea63f",
   "metadata": {},
   "source": [
    "### Step 1: Data Preprocessing"
   ]
  },
  {
   "cell_type": "code",
   "execution_count": null,
   "id": "0063804f",
   "metadata": {},
   "outputs": [],
   "source": [
    "# Extract first cuisine as main class\n",
    "df['Main Cuisine'] = df['Cuisines'].apply(lambda x: x.split(',')[0])\n",
    "\n",
    "# Select top 10 cuisines only\n",
    "top_cuisines = df['Main Cuisine'].value_counts().nlargest(10).index\n",
    "df = df[df['Main Cuisine'].isin(top_cuisines)]\n",
    "\n",
    "# Encode categorical variables\n",
    "df['Has Table booking'] = df['Has Table booking'].map({'Yes': 1, 'No': 0})\n",
    "df['Has Online delivery'] = df['Has Online delivery'].map({'Yes': 1, 'No': 0})"
   ]
  },
  {
   "cell_type": "markdown",
   "id": "2c8e3e81",
   "metadata": {},
   "source": [
    "### Step 2: Train-Test Split and Encoding"
   ]
  },
  {
   "cell_type": "code",
   "execution_count": null,
   "id": "e1044bd7",
   "metadata": {},
   "outputs": [],
   "source": [
    "# Prepare features and label\n",
    "X = df[['Average Cost for two', 'Price range', 'Votes', 'Has Table booking', 'Has Online delivery']]\n",
    "y = df['Main Cuisine']\n",
    "\n",
    "# Label encode cuisine\n",
    "le = LabelEncoder()\n",
    "y = le.fit_transform(y)\n",
    "\n",
    "# Split\n",
    "X_train, X_test, y_train, y_test = train_test_split(X, y, test_size=0.25, random_state=42)"
   ]
  },
  {
   "cell_type": "markdown",
   "id": "2265fc52",
   "metadata": {},
   "source": [
    "### Step 3: Train Classifier and Evaluate"
   ]
  },
  {
   "cell_type": "code",
   "execution_count": null,
   "id": "cb13d66d",
   "metadata": {},
   "outputs": [],
   "source": [
    "model = RandomForestClassifier(random_state=42)\n",
    "model.fit(X_train, y_train)\n",
    "y_pred = model.predict(X_test)\n",
    "\n",
    "print(\"Accuracy:\", accuracy_score(y_test, y_pred))\n",
    "print(\"Classification Report:\")\n",
    "print(classification_report(y_test, y_pred, target_names=le.classes_))"
   ]
  }
 ],
 "metadata": {},
 "nbformat": 4,
 "nbformat_minor": 5
}