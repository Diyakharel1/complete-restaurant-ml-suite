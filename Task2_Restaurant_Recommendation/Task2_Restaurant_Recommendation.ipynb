{
 "cells": [
  {
   "cell_type": "markdown",
   "id": "908bf37f",
   "metadata": {},
   "source": [
    "# Task 2: Restaurant Recommendation System\n",
    "### Objective\n",
    "Build a content-based filtering recommendation system based on user preferences such as cuisine type and price range."
   ]
  },
  {
   "cell_type": "code",
   "execution_count": null,
   "id": "039efca8",
   "metadata": {},
   "outputs": [],
   "source": [
    "import pandas as pd\n",
    "from sklearn.feature_extraction.text import TfidfVectorizer\n",
    "from sklearn.metrics.pairwise import cosine_similarity\n",
    "\n",
    "# Load dataset\n",
    "df = pd.read_csv('restaurant_dataset.csv')\n",
    "\n",
    "# Drop missing cuisines\n",
    "df = df.dropna(subset=['Cuisines'])\n",
    "\n",
    "# Create simplified dataset\n",
    "data = df[['Restaurant Name', 'Cuisines', 'Average Cost for two', 'Price range']].copy()\n",
    "data.drop_duplicates(inplace=True)\n",
    "data.reset_index(drop=True, inplace=True)\n",
    "data.head()"
   ]
  },
  {
   "cell_type": "markdown",
   "id": "ca9ccb2e",
   "metadata": {},
   "source": [
    "### Step 1: Feature Encoding using TF-IDF"
   ]
  },
  {
   "cell_type": "code",
   "execution_count": null,
   "id": "632aeb7c",
   "metadata": {},
   "outputs": [],
   "source": [
    "# TF-IDF on Cuisines\n",
    "tfidf = TfidfVectorizer(stop_words='english')\n",
    "tfidf_matrix = tfidf.fit_transform(data['Cuisines'])\n",
    "\n",
    "# Compute similarity\n",
    "cosine_sim = cosine_similarity(tfidf_matrix, tfidf_matrix)"
   ]
  },
  {
   "cell_type": "markdown",
   "id": "3049a277",
   "metadata": {},
   "source": [
    "### Step 2: Recommendation Function"
   ]
  },
  {
   "cell_type": "code",
   "execution_count": null,
   "id": "16b0a39f",
   "metadata": {},
   "outputs": [],
   "source": [
    "indices = pd.Series(data.index, index=data['Restaurant Name'].str.lower())\n",
    "\n",
    "def recommend(restaurant_name, top_n=5):\n",
    "    idx = indices.get(restaurant_name.lower())\n",
    "    if idx is None:\n",
    "        return \"Restaurant not found.\"\n",
    "    sim_scores = list(enumerate(cosine_sim[idx]))\n",
    "    sim_scores = sorted(sim_scores, key=lambda x: x[1], reverse=True)\n",
    "    sim_scores = sim_scores[1:top_n+1]\n",
    "    restaurant_indices = [i[0] for i in sim_scores]\n",
    "    return data[['Restaurant Name', 'Cuisines', 'Average Cost for two']].iloc[restaurant_indices]"
   ]
  },
  {
   "cell_type": "markdown",
   "id": "f56fb477",
   "metadata": {},
   "source": [
    "### Step 3: Test the Recommendation System"
   ]
  },
  {
   "cell_type": "code",
   "execution_count": null,
   "id": "0872d87a",
   "metadata": {},
   "outputs": [],
   "source": [
    "# Sample test\n",
    "recommend('Le Petit Souffle')"
   ]
  }
 ],
 "metadata": {},
 "nbformat": 4,
 "nbformat_minor": 5
}