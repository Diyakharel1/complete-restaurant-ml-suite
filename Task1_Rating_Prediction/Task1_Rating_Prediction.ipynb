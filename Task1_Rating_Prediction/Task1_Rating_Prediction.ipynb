{
 "cells": [
  {
   "cell_type": "markdown",
   "id": "b5cae410",
   "metadata": {},
   "source": [
    "# Task 1: Predict Restaurant Ratings using Regression"
   ]
  },
  {
   "cell_type": "markdown",
   "id": "61b15ffd",
   "metadata": {},
   "source": [
    "### Objective\n",
    "Build a regression model to predict the **Aggregate Rating** of a restaurant based on various features like cuisine, location, cost, and other metadata."
   ]
  },
  {
   "cell_type": "code",
   "execution_count": null,
   "id": "c8e5c4f7",
   "metadata": {},
   "outputs": [],
   "source": [
    "import pandas as pd\n",
    "import numpy as np\n",
    "from sklearn.model_selection import train_test_split\n",
    "from sklearn.linear_model import LinearRegression\n",
    "from sklearn.tree import DecisionTreeRegressor\n",
    "from sklearn.metrics import mean_squared_error, r2_score\n",
    "import matplotlib.pyplot as plt\n",
    "import seaborn as sns\n",
    "\n",
    "# Load dataset\n",
    "df = pd.read_csv('restaurant_dataset.csv')\n",
    "df.head()"
   ]
  },
  {
   "cell_type": "markdown",
   "id": "44eef824",
   "metadata": {},
   "source": [
    "### Step 1: Data Preprocessing\n",
    "- Handle missing values\n",
    "- Encode categorical features\n",
    "- Select relevant features for prediction"
   ]
  },
  {
   "cell_type": "code",
   "execution_count": null,
   "id": "6ab283c1",
   "metadata": {},
   "outputs": [],
   "source": [
    "# Drop rows with missing cuisines\n",
    "df = df.dropna(subset=['Cuisines'])\n",
    "\n",
    "# Select relevant columns\n",
    "data = df[['Average Cost for two', 'Has Table booking', 'Has Online delivery',\n",
    "           'Price range', 'Votes', 'Cuisines', 'Aggregate rating']].copy()\n",
    "\n",
    "# Encode binary columns\n",
    "data['Has Table booking'] = data['Has Table booking'].map({'Yes': 1, 'No': 0})\n",
    "data['Has Online delivery'] = data['Has Online delivery'].map({'Yes': 1, 'No': 0})\n",
    "\n",
    "# Encode top 10 cuisines, rest as 'Other'\n",
    "top_cuisines = data['Cuisines'].value_counts().nlargest(10).index\n",
    "data['Cuisines'] = data['Cuisines'].apply(lambda x: x if x in top_cuisines else 'Other')\n",
    "data = pd.get_dummies(data, columns=['Cuisines'], drop_first=True)\n",
    "\n",
    "data.head()"
   ]
  },
  {
   "cell_type": "markdown",
   "id": "3db1de7f",
   "metadata": {},
   "source": [
    "### Step 2: Train-Test Split"
   ]
  },
  {
   "cell_type": "code",
   "execution_count": null,
   "id": "ee723241",
   "metadata": {},
   "outputs": [],
   "source": [
    "X = data.drop('Aggregate rating', axis=1)\n",
    "y = data['Aggregate rating']\n",
    "\n",
    "X_train, X_test, y_train, y_test = train_test_split(X, y, test_size=0.2, random_state=42)"
   ]
  },
  {
   "cell_type": "markdown",
   "id": "8ad4b6e6",
   "metadata": {},
   "source": [
    "### Step 3: Train and Evaluate Models"
   ]
  },
  {
   "cell_type": "code",
   "execution_count": null,
   "id": "86b8d0dc",
   "metadata": {},
   "outputs": [],
   "source": [
    "# Linear Regression\n",
    "lr = LinearRegression()\n",
    "lr.fit(X_train, y_train)\n",
    "y_pred_lr = lr.predict(X_test)\n",
    "\n",
    "print(\"Linear Regression R2 Score:\", r2_score(y_test, y_pred_lr))\n",
    "print(\"Linear Regression MSE:\", mean_squared_error(y_test, y_pred_lr))"
   ]
  },
  {
   "cell_type": "code",
   "execution_count": null,
   "id": "7ccda769",
   "metadata": {},
   "outputs": [],
   "source": [
    "# Decision Tree Regressor\n",
    "dt = DecisionTreeRegressor(random_state=42)\n",
    "dt.fit(X_train, y_train)\n",
    "y_pred_dt = dt.predict(X_test)\n",
    "\n",
    "print(\"Decision Tree R2 Score:\", r2_score(y_test, y_pred_dt))\n",
    "print(\"Decision Tree MSE:\", mean_squared_error(y_test, y_pred_dt))"
   ]
  },
  {
   "cell_type": "markdown",
   "id": "ceb515da",
   "metadata": {},
   "source": [
    "### Step 4: Feature Importance Analysis"
   ]
  },
  {
   "cell_type": "code",
   "execution_count": null,
   "id": "36ccfb59",
   "metadata": {},
   "outputs": [],
   "source": [
    "importances = pd.Series(dt.feature_importances_, index=X.columns)\n",
    "importances.sort_values().plot(kind='barh', figsize=(10,6))\n",
    "plt.title('Feature Importances from Decision Tree')\n",
    "plt.show()"
   ]
  }
 ],
 "metadata": {},
 "nbformat": 4,
 "nbformat_minor": 5
}